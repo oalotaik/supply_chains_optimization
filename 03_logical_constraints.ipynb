{
 "cells": [
  {
   "cell_type": "markdown",
   "metadata": {},
   "source": [
    "**Logical constraint exercise**\n",
    "\n",
    "Your customer has ordered six products to be delivered over the next month. You will need to ship multiple truck loads to deliver all of the products. There is a weight limit on your trucks of 25,000 lbs. For cash flow reasons you desire to ship the most profitable combination of products that can fit on your truck.\n",
    "\n",
    "|Product\tWeight| (lbs)\t|Profitability ($US)|\n",
    "|-----------------|---------|-------------------|\n",
    "|A|\t12,583|\t102,564|\n",
    "|B|\t9,204|\t130,043|\n",
    "|C|\t12,611|\t127,648|\n",
    "|D|\t12,131|\t155,058|\n",
    "|E|\t12,889|\t238,846|\n",
    "|F|\t11,529|\t197,030|"
   ]
  },
  {
   "cell_type": "code",
   "execution_count": 1,
   "metadata": {},
   "outputs": [],
   "source": [
    "from pulp import *"
   ]
  },
  {
   "cell_type": "code",
   "execution_count": 2,
   "metadata": {},
   "outputs": [],
   "source": [
    "weight = {'A': 12583, 'B': 9204, 'C': 12611, 'D': 12131, 'E': 12889, 'F': 11529}\n",
    "prof = {'A': 102564, 'B': 130043, 'C': 127648, 'D': 155058, 'E': 238846, 'F': 197030}\n",
    "prod = ['A', 'B', 'C', 'D', 'E', 'F']"
   ]
  },
  {
   "cell_type": "markdown",
   "metadata": {},
   "source": [
    "**Add a constraint so that the model will, at most, select only one of the products between D, E, and F**"
   ]
  },
  {
   "cell_type": "code",
   "execution_count": 5,
   "metadata": {},
   "outputs": [
    {
     "name": "stdout",
     "output_type": "stream",
     "text": [
      "A status 0.0\n",
      "B status 1.0\n",
      "C status 0.0\n",
      "D status 0.0\n",
      "E status 1.0\n",
      "F status 0.0\n"
     ]
    }
   ],
   "source": [
    "# Initialized model, defined decision variables and objective\n",
    "model = LpProblem(\"Loading_Truck_Problem\", LpMaximize)\n",
    "x = LpVariable.dicts('ship_', prod, cat='Binary')\n",
    "model += lpSum([prof[i] * x[i] for i in prod])\n",
    "\n",
    "# Define Constraint\n",
    "model += lpSum([weight[i] * x[i] for i in prod]) <= 25000\n",
    "# only one (or none) of D, E, and F is selected\n",
    "model += x['D'] + x['E'] + x['F'] <= 1\n",
    "\n",
    "model.solve()\n",
    "for i in prod:\n",
    "    print(\"{} status {}\".format(i, x[i].varValue))"
   ]
  },
  {
   "cell_type": "markdown",
   "metadata": {},
   "source": [
    "<img src=\"files/images/04_lc1.PNG\" width=\"500\" align=\"center\">"
   ]
  },
  {
   "cell_type": "markdown",
   "metadata": {},
   "source": [
    "**Logical constraints exercise 2**\n",
    "\n",
    "You work at a trucking distribution center and you need to decide which of 6 customer locations you will send a truck to. Your goal is to minimize the distance a truck travels.\n",
    "\n",
    "|Location|\tDistance|\n",
    "|--------|----------|\n",
    "|A|\t86|\n",
    "|B|\t95|\n",
    "|C|\t205|\n",
    "|D|\t229|\n",
    "|E|\t101|\n",
    "|F|\t209|\n"
   ]
  },
  {
   "cell_type": "code",
   "execution_count": 6,
   "metadata": {},
   "outputs": [],
   "source": [
    "dist = {'A': 86, 'B': 95, 'C': 205, 'D': 229, 'E': 101, 'F': 209}\n",
    "cust = ['A', 'B', 'C', 'D', 'E', 'F']"
   ]
  },
  {
   "cell_type": "code",
   "execution_count": 7,
   "metadata": {},
   "outputs": [
    {
     "name": "stdout",
     "output_type": "stream",
     "text": [
      "A status 0.0\n",
      "B status 0.0\n",
      "C status 0.0\n",
      "D status 0.0\n",
      "E status 1.0\n",
      "F status 0.0\n"
     ]
    }
   ],
   "source": [
    "model = LpProblem(\"Loading_Truck_Problem\", LpMinimize)\n",
    "x = LpVariable.dicts('ship_', cust, cat='Binary')\n",
    "model += lpSum([dist[i]*x[i] for i in cust])\n",
    "\n",
    "# Define Constraints\n",
    "# at least one location is selected\n",
    "model += x['A'] + x['B'] + x['C'] + x['D'] + x['E'] + x['F'] >= 1\n",
    "# if location A is selected then location D is also selected\n",
    "model += x['A'] - x['D'] <= 0\n",
    "# if location B is selected then location E is also selected\n",
    "model += x['B'] - x['E'] <= 0\n",
    "\n",
    "model.solve()\n",
    "for i in cust:\n",
    "    print(\"{} status {}\".format(i, x[i].varValue))"
   ]
  },
  {
   "cell_type": "code",
   "execution_count": null,
   "metadata": {},
   "outputs": [],
   "source": []
  }
 ],
 "metadata": {
  "kernelspec": {
   "display_name": "Python 3",
   "language": "python",
   "name": "python3"
  },
  "language_info": {
   "codemirror_mode": {
    "name": "ipython",
    "version": 3
   },
   "file_extension": ".py",
   "mimetype": "text/x-python",
   "name": "python",
   "nbconvert_exporter": "python",
   "pygments_lexer": "ipython3",
   "version": "3.7.1"
  }
 },
 "nbformat": 4,
 "nbformat_minor": 2
}
