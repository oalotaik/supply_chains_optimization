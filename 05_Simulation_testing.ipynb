{
 "cells": [
  {
   "cell_type": "code",
   "execution_count": 1,
   "metadata": {},
   "outputs": [],
   "source": [
    "from pulp import *\n",
    "import pandas as pd\n",
    "import random\n",
    "import matplotlib.pyplot as plt\n",
    "%matplotlib inline"
   ]
  },
  {
   "cell_type": "markdown",
   "metadata": {},
   "source": [
    "<img src=\"files/images/06_context.PNG\" width=\"500\" align=\"center\">"
   ]
  },
  {
   "cell_type": "markdown",
   "metadata": {},
   "source": [
    "**Normally, models are solved like below (no randomness)**"
   ]
  },
  {
   "cell_type": "code",
   "execution_count": 2,
   "metadata": {},
   "outputs": [
    {
     "data": {
      "text/plain": [
       "1"
      ]
     },
     "execution_count": 2,
     "metadata": {},
     "output_type": "execute_result"
    }
   ],
   "source": [
    "# Initialize Class, & Define Variables\n",
    "model = LpProblem(\"Max_Glass_Co._Profits\", LpMaximize)\n",
    "A = LpVariable('A', lowBound=0)\n",
    "B = LpVariable('B', lowBound=0)\n",
    "C = LpVariable('C', lowBound=0)\n",
    "# Define Objective Function\n",
    "model += 500 * A + 450 * B + 600 * C\n",
    "# Define Constraints & Solve\n",
    "model += 6 * A + 5 * B + 8 * C <= 60\n",
    "model += 10.5 * A + 20 * B + 10 * C <= 150\n",
    "model += A <= 8\n",
    "model.solve()"
   ]
  },
  {
   "cell_type": "markdown",
   "metadata": {},
   "source": [
    "**Testing solution robustness**\n",
    "\n",
    "There is a chance that model inputs could be inaccurate. In order to test robustness of the solution against change in input estimates, we use python's `random` module and add noise to the estimates in question. For example, if profit estimates in above model could be inaccurate, we run the model mutltiple times and add randomness/noise to these estimates in each run. Then we observe the solution over the multiple runs and how if it changes or not. "
   ]
  },
  {
   "cell_type": "code",
   "execution_count": 3,
   "metadata": {},
   "outputs": [],
   "source": [
    "def run_pulp_model():\n",
    "    # Initialize Class, & Define Variables\n",
    "    model = LpProblem(\"Max_Glass_Co._Profits\", LpMaximize)\n",
    "    A = LpVariable('A', lowBound=0)\n",
    "    B = LpVariable('B', lowBound=0)\n",
    "    C = LpVariable('C', lowBound=0)\n",
    "    # store random noise values in lower case a, b, c\n",
    "    # draw values from a normal distribution with mean = 0, std = 25\n",
    "    a, b, c = random.normalvariate(0, 25), random.normalvariate(0, 25), random.normalvariate(0, 25)\n",
    "    # Define Objective Function\n",
    "    model += (500+a)*A + (450+b)*B + (600+c)*C\n",
    "    # Define Constraints & Solve\n",
    "    model += 6 * A + 5 * B + 8 * C <= 60\n",
    "    model += 10.5 * A + 20 * B + 10 * C <= 150\n",
    "    model += A <= 8\n",
    "    model.solve()\n",
    "    o = {'A':A.varValue, 'B':B.varValue, 'C':C.varValue, 'Obj':value(model.objective)}\n",
    "    return(o)"
   ]
  },
  {
   "cell_type": "markdown",
   "metadata": {},
   "source": [
    "**Run model in a for loop**"
   ]
  },
  {
   "cell_type": "code",
   "execution_count": 4,
   "metadata": {},
   "outputs": [],
   "source": [
    "# variable for number of replications\n",
    "r = 1000\n",
    "# define a list of dictionaries to hold the output of each replication\n",
    "output = []\n",
    "for i in range(r):\n",
    "    output.append(run_pulp_model())\n",
    "# create a pandas df from the output list\n",
    "df = pd.DataFrame(output)"
   ]
  },
  {
   "cell_type": "code",
   "execution_count": 5,
   "metadata": {},
   "outputs": [
    {
     "data": {
      "text/html": [
       "<div>\n",
       "<style scoped>\n",
       "    .dataframe tbody tr th:only-of-type {\n",
       "        vertical-align: middle;\n",
       "    }\n",
       "\n",
       "    .dataframe tbody tr th {\n",
       "        vertical-align: top;\n",
       "    }\n",
       "\n",
       "    .dataframe thead th {\n",
       "        text-align: right;\n",
       "    }\n",
       "</style>\n",
       "<table border=\"1\" class=\"dataframe\">\n",
       "  <thead>\n",
       "    <tr style=\"text-align: right;\">\n",
       "      <th></th>\n",
       "      <th>A</th>\n",
       "      <th>B</th>\n",
       "      <th>C</th>\n",
       "      <th>Obj</th>\n",
       "    </tr>\n",
       "  </thead>\n",
       "  <tbody>\n",
       "    <tr>\n",
       "      <th>0</th>\n",
       "      <td>6.666667</td>\n",
       "      <td>4.0</td>\n",
       "      <td>0.0</td>\n",
       "      <td>5332.104997</td>\n",
       "    </tr>\n",
       "    <tr>\n",
       "      <th>1</th>\n",
       "      <td>6.666667</td>\n",
       "      <td>4.0</td>\n",
       "      <td>0.0</td>\n",
       "      <td>5176.709135</td>\n",
       "    </tr>\n",
       "    <tr>\n",
       "      <th>2</th>\n",
       "      <td>6.666667</td>\n",
       "      <td>4.0</td>\n",
       "      <td>0.0</td>\n",
       "      <td>4976.038569</td>\n",
       "    </tr>\n",
       "    <tr>\n",
       "      <th>3</th>\n",
       "      <td>6.666667</td>\n",
       "      <td>4.0</td>\n",
       "      <td>0.0</td>\n",
       "      <td>5287.937723</td>\n",
       "    </tr>\n",
       "    <tr>\n",
       "      <th>4</th>\n",
       "      <td>6.666667</td>\n",
       "      <td>4.0</td>\n",
       "      <td>0.0</td>\n",
       "      <td>5046.939206</td>\n",
       "    </tr>\n",
       "  </tbody>\n",
       "</table>\n",
       "</div>"
      ],
      "text/plain": [
       "          A    B    C          Obj\n",
       "0  6.666667  4.0  0.0  5332.104997\n",
       "1  6.666667  4.0  0.0  5176.709135\n",
       "2  6.666667  4.0  0.0  4976.038569\n",
       "3  6.666667  4.0  0.0  5287.937723\n",
       "4  6.666667  4.0  0.0  5046.939206"
      ]
     },
     "execution_count": 5,
     "metadata": {},
     "output_type": "execute_result"
    }
   ],
   "source": [
    "df.head()"
   ]
  },
  {
   "cell_type": "markdown",
   "metadata": {},
   "source": [
    "**Check the optimal solution and its frequency**"
   ]
  },
  {
   "cell_type": "code",
   "execution_count": 6,
   "metadata": {},
   "outputs": [
    {
     "name": "stdout",
     "output_type": "stream",
     "text": [
      "6.666667    709\n",
      "8.000000    163\n",
      "0.000000    128\n",
      "Name: A, dtype: int64\n"
     ]
    }
   ],
   "source": [
    "# optimal solution for A\n",
    "print(df['A'].value_counts())"
   ]
  },
  {
   "cell_type": "markdown",
   "metadata": {},
   "source": [
    "709 out of 1000 times the optimal solution for A was 6.67. A relatively good result. This means that the risk of not getting the true optimal due to a wrong estimat for the profit of A is relatively low. The same goes for B and C. See below."
   ]
  },
  {
   "cell_type": "code",
   "execution_count": 7,
   "metadata": {},
   "outputs": [
    {
     "name": "stdout",
     "output_type": "stream",
     "text": [
      "4.000000    709\n",
      "2.400000    161\n",
      "5.454546    127\n",
      "0.000000      3\n",
      "Name: B, dtype: int64\n",
      "0.000000    870\n",
      "4.090909    127\n",
      "1.500000      2\n",
      "7.500000      1\n",
      "Name: C, dtype: int64\n"
     ]
    }
   ],
   "source": [
    "print(df['B'].value_counts())\n",
    "print(df['C'].value_counts())"
   ]
  },
  {
   "cell_type": "markdown",
   "metadata": {},
   "source": [
    "**Visualize the results**"
   ]
  },
  {
   "cell_type": "code",
   "execution_count": 10,
   "metadata": {
    "scrolled": true
   },
   "outputs": [
    {
     "data": {
      "image/png": "[encoded data removed]",
      "text/plain": [
       "<Figure size 360x360 with 4 Axes>"
      ]
     },
     "metadata": {
      "needs_background": "light"
     },
     "output_type": "display_data"
    }
   ],
   "source": [
    "df.hist(bins=30, figsize=[5, 5]);\n",
    "plt.suptitle('Distribution of Optimal Solutions\\n(Num. of Runs = 1,000)');"
   ]
  },
  {
   "cell_type": "markdown",
   "metadata": {},
   "source": [
    "**Note**: you might not want to use this method on problems that take PuLP a long time to solve"
   ]
  },
  {
   "cell_type": "code",
   "execution_count": null,
   "metadata": {},
   "outputs": [],
   "source": []
  }
 ],
 "metadata": {
  "kernelspec": {
   "display_name": "Python 3",
   "language": "python",
   "name": "python3"
  },
  "language_info": {
   "codemirror_mode": {
    "name": "ipython",
    "version": 3
   },
   "file_extension": ".py",
   "mimetype": "text/x-python",
   "name": "python",
   "nbconvert_exporter": "python",
   "pygments_lexer": "ipython3",
   "version": "3.7.1"
  }
 },
 "nbformat": 4,
 "nbformat_minor": 2
}
