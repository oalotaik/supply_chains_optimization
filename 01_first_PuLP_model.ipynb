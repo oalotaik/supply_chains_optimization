{
 "cells": [
  {
   "cell_type": "markdown",
   "metadata": {},
   "source": [
    "**Maximize Profit for a Glass Manufacturer**"
   ]
  },
  {
   "cell_type": "markdown",
   "metadata": {},
   "source": [
    "In this exercise you are planning the production at a glass manufacturer. This manufacturer only produces wine and beer glasses:\n",
    "\n",
    "- there is a maximum production capacity of 60 hours\n",
    "- each batch of wine and beer glasses takes 6 and 5 hours respectively\n",
    "- the warehouse has a maximum capacity of 150 rack spaces\n",
    "- each batch of the wine and beer glasses takes 10 and 20 spaces respectively\n",
    "- the production equipment can only make full batches, no partial batches\n",
    "\n",
    "Also, we only have orders for 6 batches of wine glasses. Therefore, we do not want to produce more than this. Each batch of the wine glasses earns a profit of \\\\$5 and the beer \\\\$4.5.\n",
    "\n",
    "The objective is to maximize the profit for the manufacturer."
   ]
  },
  {
   "cell_type": "code",
   "execution_count": 1,
   "metadata": {},
   "outputs": [],
   "source": [
    "# importing pulp\n",
    "from pulp import *"
   ]
  },
  {
   "cell_type": "code",
   "execution_count": 2,
   "metadata": {},
   "outputs": [
    {
     "name": "stdout",
     "output_type": "stream",
     "text": [
      "Make 6.0 batches of wine\n",
      "Make 4.0 batches of beer\n"
     ]
    }
   ],
   "source": [
    "# Initialize Class\n",
    "model = LpProblem('glass_mfg', sense=LpMaximize)\n",
    "# decision variables\n",
    "W = LpVariable('W', lowBound=0, upBound=None, cat='Integer')\n",
    "B = LpVariable('B', lowBound=0, upBound=None, cat='Integer')\n",
    "# objective funcrion\n",
    "model += 5*W + 4.5*B\n",
    "# constraints\n",
    "model += 6*W + 5*B <= 60\n",
    "model += 10*W + 20*B <= 150\n",
    "model += W <= 6\n",
    "# solve the model\n",
    "model.solve()\n",
    "print('Make {} batches of wine'.format(W.varValue))\n",
    "print('Make {} batches of beer'.format(B.varValue))"
   ]
  },
  {
   "cell_type": "markdown",
   "metadata": {},
   "source": [
    "**What if too many variables?**\n",
    "\n",
    "- `lpSum()` to the rescue\n",
    "- uses Python list comprehension\n",
    "\n",
    "Example:\n",
    "\n",
    "```Python\n",
    "# Define Objective Function\n",
    "model += 20*A + 40*B + 33*C + 14*D + 6*E + 60*F\n",
    "\n",
    "Equivalent to:\n",
    "\n",
    "# Define Objective Function\n",
    "var_list = [20*A, 40*B, 33*C, 14*D, 6*E, 60*F]\n",
    "model += lpSum(var_list)\n",
    "\n",
    "# Define Objective Function\n",
    "cake_types = [\"A\", \"B\", \"C\", \"D\", \"E\", \"F\"]\n",
    "profit_by_cake = {\"A\":20, \"B\":40, \"C\":33, \"D\":14, \"E\":6, \"F\":60}\n",
    "var_dict = {\"A\":A, \"B\":B, \"C\":C, \"D\":D, \"E\":E,\"F\":F}\n",
    "model += lpSum([profit_by_cake[type] * var_dict[type]\n",
    "                for type in cake_types])\n",
    "```\n",
    "\n",
    "**Note**:\n",
    "\n",
    "Variable creation is a little different for a large scale probmlem with many variables. Need to use `LpVariable(name, lowBound=None, upBound=None, cat='Continuous', e=None)` to create variables and assign their categories (i.e. integer/continuous).\n",
    "\n",
    "- `name` = The prex to the name of each LP variable created\n",
    "- `lowBound` = Lower bound\n",
    "- `upBound` = Upper bound\n",
    "- `cat` = The type of variable this is\n",
    "    - Integer\n",
    "    - Binary\n",
    "    - Continuous (default)"
   ]
  },
  {
   "cell_type": "markdown",
   "metadata": {},
   "source": [
    "**Logistics planning problem**\n",
    "\n",
    "You are consulting for kitchen oven manufacturer helping to plan their logistics for next month. There are two warehouse locations (New York, and Atlanta), and four regional customer locations (East, South, Midwest, West). The expected demand next month for East it is 1,800, for South it is 1,200, for the Midwest it is 1,100, and for West it is 1000. The cost for shipping each of the warehouse locations to the regional customer's is listed in the table below. Your goal is to fulfill the regional demand at the lowest price.\n",
    "\n",
    "|Customer|New York|Atlanta\n",
    "|--------|--------|-------\n",
    "|East\t|\\\\$211\t|\\\\$232\n",
    "|South\t|\\\\$232\t|\\\\$212\n",
    "|Midwest|\\\\$240\t|\\\\$230\n",
    "|West\t|\\\\$300\t|\\\\$280\n",
    "\n",
    "Solution:"
   ]
  },
  {
   "cell_type": "code",
   "execution_count": 3,
   "metadata": {},
   "outputs": [
    {
     "data": {
      "text/plain": [
       "1"
      ]
     },
     "execution_count": 3,
     "metadata": {},
     "output_type": "execute_result"
    }
   ],
   "source": [
    "# Initialize Model\n",
    "model = LpProblem(\"MinimizeTransportationCosts\", LpMinimize)\n",
    "\n",
    "# build costs dictionary\n",
    "costs = {('Atlanta', 'East'): 232, \n",
    "         ('Atlanta', 'Midwest'): 230, \n",
    "         ('Atlanta', 'South'): 212, \n",
    "         ('Atlanta', 'West'): 280, \n",
    "         ('New York', 'East'): 211, \n",
    "         ('New York', 'Midwest'): 240, \n",
    "         ('New York', 'South'): 232, \n",
    "         ('New York', 'West'): 300}\n",
    "\n",
    "# Build the lists and the demand dictionary\n",
    "warehouse = ['New York', 'Atlanta']\n",
    "customers = ['East', 'South', 'Midwest', 'West']\n",
    "regional_demand = [1800, 1200, 1100, 1000]\n",
    "demand = dict(zip(customers, regional_demand))\n",
    "\n",
    "# define decision variables by first using list comprehension to \n",
    "# iterate over the warehouse, and customers lists to create a list of keys.\n",
    "# Use that list of keys with LpVariable.dicts() to define the variables needed.\n",
    "key = [(w, c) for w in warehouse for c in customers]\n",
    "var_dict = LpVariable.dicts('shipments', \n",
    "                            key, \n",
    "                            lowBound = 0, \n",
    "                            upBound=None, \n",
    "                            cat='Integer')\n",
    "\n",
    "# Define Objective\n",
    "model += lpSum([costs[(w, c)] * var_dict[(w, c)] \n",
    "                for c in customers for w in warehouse])\n",
    "\n",
    "# For each customer, sum warehouse shipments and set equal to customer demand\n",
    "for c in customers:\n",
    "    model += lpSum([var_dict[(w, c)] for w in warehouse]) == demand[c]\n",
    "\n",
    "model.solve()"
   ]
  },
  {
   "cell_type": "code",
   "execution_count": 4,
   "metadata": {},
   "outputs": [
    {
     "name": "stdout",
     "output_type": "stream",
     "text": [
      "shipments_('Atlanta',_'East') = 0.0\n",
      "shipments_('Atlanta',_'Midwest') = 1100.0\n",
      "shipments_('Atlanta',_'South') = 1200.0\n",
      "shipments_('Atlanta',_'West') = 1000.0\n",
      "shipments_('New_York',_'East') = 1800.0\n",
      "shipments_('New_York',_'Midwest') = 0.0\n",
      "shipments_('New_York',_'South') = 0.0\n",
      "shipments_('New_York',_'West') = 0.0\n"
     ]
    }
   ],
   "source": [
    "# variables values\n",
    "for v in model.variables():\n",
    "    print(v.name, \"=\", v.varValue)"
   ]
  },
  {
   "cell_type": "markdown",
   "metadata": {},
   "source": [
    "**Run cell below for more info about the method `LpVariable.dicts()`**"
   ]
  },
  {
   "cell_type": "code",
   "execution_count": 5,
   "metadata": {},
   "outputs": [],
   "source": [
    "LpVariable.dicts?"
   ]
  },
  {
   "cell_type": "code",
   "execution_count": null,
   "metadata": {},
   "outputs": [],
   "source": []
  }
 ],
 "metadata": {
  "kernelspec": {
   "display_name": "Python 3",
   "language": "python",
   "name": "python3"
  },
  "language_info": {
   "codemirror_mode": {
    "name": "ipython",
    "version": 3
   },
   "file_extension": ".py",
   "mimetype": "text/x-python",
   "name": "python",
   "nbconvert_exporter": "python",
   "pygments_lexer": "ipython3",
   "version": "3.7.1"
  }
 },
 "nbformat": 4,
 "nbformat_minor": 2
}
