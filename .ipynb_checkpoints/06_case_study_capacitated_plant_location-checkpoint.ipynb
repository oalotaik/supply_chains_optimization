{
 "cells": [
  {
   "cell_type": "markdown",
   "metadata": {},
   "source": [
    "<img src=\"files/images/03_cpl1.png\" width=\"500\" align=\"center\">\n",
    "<img src=\"files/images/03_cpl2.png\" width=\"500\" align=\"center\">\n",
    "<img src=\"files/images/03_cpl3.png\" width=\"500\" align=\"center\">\n",
    "<img src=\"files/images/03_cpl4.png\" width=\"500\" align=\"center\">\n",
    "<img src=\"files/images/03_cpl5.png\" width=\"500\" align=\"center\">"
   ]
  },
  {
   "cell_type": "markdown",
   "metadata": {},
   "source": [
    "Assume the case study data is from a car manufacture optimizing its Supply Chain network across five regions (i.e. USA, Germany, Japan, Brazil, and India). You are given the demand, manufacturing capacity (thousands of cars) for each region, and the variable and fixed costs (thousands of $US dollars). Four Pandas DataFrames `demand`, `var_cost`, `fix_cost`, and `cap` have been created for you, and printed in the console, containing the regional demand, variable production costs, fixed production costs, and production capacity. The var_cost shows the costs of producing in location i shipping to location j. Which statement is true based on the data."
   ]
  },
  {
   "cell_type": "code",
   "execution_count": 1,
   "metadata": {},
   "outputs": [],
   "source": [
    "from pulp import *\n",
    "import pandas as pd\n",
    "import random\n",
    "import matplotlib.pyplot as plt\n",
    "%matplotlib inline"
   ]
  },
  {
   "cell_type": "markdown",
   "metadata": {},
   "source": [
    "**Data**"
   ]
  },
  {
   "cell_type": "code",
   "execution_count": 2,
   "metadata": {},
   "outputs": [],
   "source": [
    "# Need to define the four dataframes: demand, var_cost, fix_cost, and cap\n",
    "loc = ['USA', 'Germany', 'Japan', 'Brazil', 'India']\n",
    "size = ['Low_Cap','High_Cap']\n",
    "Dmd = {'Dmd': pd.Series(data = [2719.6, 84.1, 1676.8, 145.4, 156.4], index = loc)}\n",
    "vc = {'USA': pd.Series(data = [6, 13, 20, 12, 22], index = loc), \n",
    "      'Germany': pd.Series(data = [13, 6, 14, 14, 13], index = loc), \n",
    "      'Japan': pd.Series(data = [20, 14, 3, 21, 10], index = loc), \n",
    "      'Brazil': pd.Series(data = [12, 14, 21, 8, 23], index = loc), \n",
    "      'India': pd.Series(data = [17, 13, 9, 21, 8], index = loc)}\n",
    "fc = {'Low_Cap': pd.Series(data = [6500, 4980, 6230, 3230, 2110], index = loc), \n",
    "      'High_Cap': pd.Series(data = [9500, 7270, 9100, 4730, 3080], index = loc)}\n",
    "cp = {'Low_Cap': pd.Series(data = [500, 500, 500, 500, 500], index = loc), \n",
    "      'High_Cap': pd.Series(data = [1500, 1500, 1500, 1500, 1500], index = loc)}\n",
    "demand = pd.DataFrame(Dmd)\n",
    "var_cost = pd.DataFrame(vc)\n",
    "fix_cost = pd.DataFrame(fc)\n",
    "cap = pd.DataFrame(cp)"
   ]
  },
  {
   "cell_type": "code",
   "execution_count": 3,
   "metadata": {},
   "outputs": [
    {
     "data": {
      "text/html": [
       "<div>\n",
       "<style scoped>\n",
       "    .dataframe tbody tr th:only-of-type {\n",
       "        vertical-align: middle;\n",
       "    }\n",
       "\n",
       "    .dataframe tbody tr th {\n",
       "        vertical-align: top;\n",
       "    }\n",
       "\n",
       "    .dataframe thead th {\n",
       "        text-align: right;\n",
       "    }\n",
       "</style>\n",
       "<table border=\"1\" class=\"dataframe\">\n",
       "  <thead>\n",
       "    <tr style=\"text-align: right;\">\n",
       "      <th></th>\n",
       "      <th>Dmd</th>\n",
       "    </tr>\n",
       "  </thead>\n",
       "  <tbody>\n",
       "    <tr>\n",
       "      <th>USA</th>\n",
       "      <td>2719.6</td>\n",
       "    </tr>\n",
       "    <tr>\n",
       "      <th>Germany</th>\n",
       "      <td>84.1</td>\n",
       "    </tr>\n",
       "    <tr>\n",
       "      <th>Japan</th>\n",
       "      <td>1676.8</td>\n",
       "    </tr>\n",
       "    <tr>\n",
       "      <th>Brazil</th>\n",
       "      <td>145.4</td>\n",
       "    </tr>\n",
       "    <tr>\n",
       "      <th>India</th>\n",
       "      <td>156.4</td>\n",
       "    </tr>\n",
       "  </tbody>\n",
       "</table>\n",
       "</div>"
      ],
      "text/plain": [
       "            Dmd\n",
       "USA      2719.6\n",
       "Germany    84.1\n",
       "Japan    1676.8\n",
       "Brazil    145.4\n",
       "India     156.4"
      ]
     },
     "execution_count": 3,
     "metadata": {},
     "output_type": "execute_result"
    }
   ],
   "source": [
    "demand"
   ]
  },
  {
   "cell_type": "code",
   "execution_count": 4,
   "metadata": {},
   "outputs": [
    {
     "data": {
      "text/html": [
       "<div>\n",
       "<style scoped>\n",
       "    .dataframe tbody tr th:only-of-type {\n",
       "        vertical-align: middle;\n",
       "    }\n",
       "\n",
       "    .dataframe tbody tr th {\n",
       "        vertical-align: top;\n",
       "    }\n",
       "\n",
       "    .dataframe thead th {\n",
       "        text-align: right;\n",
       "    }\n",
       "</style>\n",
       "<table border=\"1\" class=\"dataframe\">\n",
       "  <thead>\n",
       "    <tr style=\"text-align: right;\">\n",
       "      <th></th>\n",
       "      <th>USA</th>\n",
       "      <th>Germany</th>\n",
       "      <th>Japan</th>\n",
       "      <th>Brazil</th>\n",
       "      <th>India</th>\n",
       "    </tr>\n",
       "  </thead>\n",
       "  <tbody>\n",
       "    <tr>\n",
       "      <th>USA</th>\n",
       "      <td>6</td>\n",
       "      <td>13</td>\n",
       "      <td>20</td>\n",
       "      <td>12</td>\n",
       "      <td>17</td>\n",
       "    </tr>\n",
       "    <tr>\n",
       "      <th>Germany</th>\n",
       "      <td>13</td>\n",
       "      <td>6</td>\n",
       "      <td>14</td>\n",
       "      <td>14</td>\n",
       "      <td>13</td>\n",
       "    </tr>\n",
       "    <tr>\n",
       "      <th>Japan</th>\n",
       "      <td>20</td>\n",
       "      <td>14</td>\n",
       "      <td>3</td>\n",
       "      <td>21</td>\n",
       "      <td>9</td>\n",
       "    </tr>\n",
       "    <tr>\n",
       "      <th>Brazil</th>\n",
       "      <td>12</td>\n",
       "      <td>14</td>\n",
       "      <td>21</td>\n",
       "      <td>8</td>\n",
       "      <td>21</td>\n",
       "    </tr>\n",
       "    <tr>\n",
       "      <th>India</th>\n",
       "      <td>22</td>\n",
       "      <td>13</td>\n",
       "      <td>10</td>\n",
       "      <td>23</td>\n",
       "      <td>8</td>\n",
       "    </tr>\n",
       "  </tbody>\n",
       "</table>\n",
       "</div>"
      ],
      "text/plain": [
       "         USA  Germany  Japan  Brazil  India\n",
       "USA        6       13     20      12     17\n",
       "Germany   13        6     14      14     13\n",
       "Japan     20       14      3      21      9\n",
       "Brazil    12       14     21       8     21\n",
       "India     22       13     10      23      8"
      ]
     },
     "execution_count": 4,
     "metadata": {},
     "output_type": "execute_result"
    }
   ],
   "source": [
    "var_cost"
   ]
  },
  {
   "cell_type": "code",
   "execution_count": 5,
   "metadata": {},
   "outputs": [
    {
     "data": {
      "text/html": [
       "<div>\n",
       "<style scoped>\n",
       "    .dataframe tbody tr th:only-of-type {\n",
       "        vertical-align: middle;\n",
       "    }\n",
       "\n",
       "    .dataframe tbody tr th {\n",
       "        vertical-align: top;\n",
       "    }\n",
       "\n",
       "    .dataframe thead th {\n",
       "        text-align: right;\n",
       "    }\n",
       "</style>\n",
       "<table border=\"1\" class=\"dataframe\">\n",
       "  <thead>\n",
       "    <tr style=\"text-align: right;\">\n",
       "      <th></th>\n",
       "      <th>Low_Cap</th>\n",
       "      <th>High_Cap</th>\n",
       "    </tr>\n",
       "  </thead>\n",
       "  <tbody>\n",
       "    <tr>\n",
       "      <th>USA</th>\n",
       "      <td>6500</td>\n",
       "      <td>9500</td>\n",
       "    </tr>\n",
       "    <tr>\n",
       "      <th>Germany</th>\n",
       "      <td>4980</td>\n",
       "      <td>7270</td>\n",
       "    </tr>\n",
       "    <tr>\n",
       "      <th>Japan</th>\n",
       "      <td>6230</td>\n",
       "      <td>9100</td>\n",
       "    </tr>\n",
       "    <tr>\n",
       "      <th>Brazil</th>\n",
       "      <td>3230</td>\n",
       "      <td>4730</td>\n",
       "    </tr>\n",
       "    <tr>\n",
       "      <th>India</th>\n",
       "      <td>2110</td>\n",
       "      <td>3080</td>\n",
       "    </tr>\n",
       "  </tbody>\n",
       "</table>\n",
       "</div>"
      ],
      "text/plain": [
       "         Low_Cap  High_Cap\n",
       "USA         6500      9500\n",
       "Germany     4980      7270\n",
       "Japan       6230      9100\n",
       "Brazil      3230      4730\n",
       "India       2110      3080"
      ]
     },
     "execution_count": 5,
     "metadata": {},
     "output_type": "execute_result"
    }
   ],
   "source": [
    "fix_cost"
   ]
  },
  {
   "cell_type": "code",
   "execution_count": 6,
   "metadata": {},
   "outputs": [
    {
     "data": {
      "text/html": [
       "<div>\n",
       "<style scoped>\n",
       "    .dataframe tbody tr th:only-of-type {\n",
       "        vertical-align: middle;\n",
       "    }\n",
       "\n",
       "    .dataframe tbody tr th {\n",
       "        vertical-align: top;\n",
       "    }\n",
       "\n",
       "    .dataframe thead th {\n",
       "        text-align: right;\n",
       "    }\n",
       "</style>\n",
       "<table border=\"1\" class=\"dataframe\">\n",
       "  <thead>\n",
       "    <tr style=\"text-align: right;\">\n",
       "      <th></th>\n",
       "      <th>Low_Cap</th>\n",
       "      <th>High_Cap</th>\n",
       "    </tr>\n",
       "  </thead>\n",
       "  <tbody>\n",
       "    <tr>\n",
       "      <th>USA</th>\n",
       "      <td>500</td>\n",
       "      <td>1500</td>\n",
       "    </tr>\n",
       "    <tr>\n",
       "      <th>Germany</th>\n",
       "      <td>500</td>\n",
       "      <td>1500</td>\n",
       "    </tr>\n",
       "    <tr>\n",
       "      <th>Japan</th>\n",
       "      <td>500</td>\n",
       "      <td>1500</td>\n",
       "    </tr>\n",
       "    <tr>\n",
       "      <th>Brazil</th>\n",
       "      <td>500</td>\n",
       "      <td>1500</td>\n",
       "    </tr>\n",
       "    <tr>\n",
       "      <th>India</th>\n",
       "      <td>500</td>\n",
       "      <td>1500</td>\n",
       "    </tr>\n",
       "  </tbody>\n",
       "</table>\n",
       "</div>"
      ],
      "text/plain": [
       "         Low_Cap  High_Cap\n",
       "USA          500      1500\n",
       "Germany      500      1500\n",
       "Japan        500      1500\n",
       "Brazil       500      1500\n",
       "India        500      1500"
      ]
     },
     "execution_count": 6,
     "metadata": {},
     "output_type": "execute_result"
    }
   ],
   "source": [
    "cap"
   ]
  },
  {
   "cell_type": "code",
   "execution_count": 7,
   "metadata": {},
   "outputs": [],
   "source": [
    "# Initialize, and Define Decision Vars.\n",
    "model = LpProblem(\"Capacitated_Plant_Location_Model\", LpMinimize)\n",
    "loc = ['USA', 'Germany', 'Japan', 'Brazil', 'India']\n",
    "size = ['Low_Cap','High_Cap']\n",
    "x = LpVariable.dicts(\"production_\", [(i,j) for i in loc for j in loc],\n",
    "                     lowBound=0, upBound=None, cat='Continuous')\n",
    "y = LpVariable.dicts(\"plant_\", \n",
    "                     [(i,s) for s in size for i in loc], cat='Binary')\n",
    "\n",
    "# Define objective function\n",
    "model += (lpSum([fix_cost.loc[i,s] * y[(i,s)] \n",
    "                 for s in size for i in loc])\n",
    "          + lpSum([var_cost.loc[i,j] * x[(i,j)] \n",
    "                   for i in loc for j in loc]))\n",
    "\n",
    "# define the constraint that sets total production shipped to \n",
    "# a particular region equal to the total demand of that region\n",
    "for j in loc:\n",
    "    model += lpSum([x[(i, j)] for i in loc]) >= demand.loc[j,'Dmd']\n",
    "\n",
    "# define constraint that sets total production of a particular region\n",
    "# to be less than or equal to the total production capacity of that region\n",
    "for i in loc:\n",
    "    model += lpSum([x[(i, j)] for j in loc]) <= lpSum([cap.loc[i,s] * y[i,s] for s in size])\n",
    "\n",
    "#Add a logical constraint so that if the high capacity plant in USA is open,\n",
    "#then a low capacity plant in Germany is also opened.\n",
    "#model += y[('USA', 'High_Cap')] - y[('Germany', 'Low_Cap')] <= 0"
   ]
  },
  {
   "cell_type": "markdown",
   "metadata": {},
   "source": [
    "**Solving the Model**"
   ]
  },
  {
   "cell_type": "code",
   "execution_count": 8,
   "metadata": {},
   "outputs": [
    {
     "data": {
      "text/plain": [
       "1"
      ]
     },
     "execution_count": 8,
     "metadata": {},
     "output_type": "execute_result"
    }
   ],
   "source": [
    "model.solve()"
   ]
  },
  {
   "cell_type": "code",
   "execution_count": 9,
   "metadata": {},
   "outputs": [
    {
     "name": "stdout",
     "output_type": "stream",
     "text": [
      "Status:  Optimal\n",
      "plant__('Brazil',_'High_Cap') = 1.0\n",
      "plant__('Brazil',_'Low_Cap') = 0.0\n",
      "plant__('Germany',_'High_Cap') = 0.0\n",
      "plant__('Germany',_'Low_Cap') = 0.0\n",
      "plant__('India',_'High_Cap') = 0.0\n",
      "plant__('India',_'Low_Cap') = 1.0\n",
      "plant__('Japan',_'High_Cap') = 1.0\n",
      "plant__('Japan',_'Low_Cap') = 0.0\n",
      "plant__('USA',_'High_Cap') = 1.0\n",
      "plant__('USA',_'Low_Cap') = 0.0\n",
      "production__('Brazil',_'Brazil') = 145.4\n",
      "production__('Brazil',_'Germany') = 0.0\n",
      "production__('Brazil',_'India') = 0.0\n",
      "production__('Brazil',_'Japan') = 0.0\n",
      "production__('Brazil',_'USA') = 1219.6\n",
      "production__('Germany',_'Brazil') = 0.0\n",
      "production__('Germany',_'Germany') = 0.0\n",
      "production__('Germany',_'India') = 0.0\n",
      "production__('Germany',_'Japan') = 0.0\n",
      "production__('Germany',_'USA') = 0.0\n",
      "production__('India',_'Brazil') = 0.0\n",
      "production__('India',_'Germany') = 84.1\n",
      "production__('India',_'India') = 156.4\n",
      "production__('India',_'Japan') = 176.8\n",
      "production__('India',_'USA') = 0.0\n",
      "production__('Japan',_'Brazil') = 0.0\n",
      "production__('Japan',_'Germany') = 0.0\n",
      "production__('Japan',_'India') = 0.0\n",
      "production__('Japan',_'Japan') = 1500.0\n",
      "production__('Japan',_'USA') = 0.0\n",
      "production__('USA',_'Brazil') = 0.0\n",
      "production__('USA',_'Germany') = 0.0\n",
      "production__('USA',_'India') = 0.0\n",
      "production__('USA',_'Japan') = 0.0\n",
      "production__('USA',_'USA') = 1500.0\n",
      "Objective =  58850.899999999994\n"
     ]
    }
   ],
   "source": [
    "# get the solution status\n",
    "print('Status: ', LpStatus[model.status])\n",
    "\n",
    "# print variables values\n",
    "for v in model.variables():\n",
    "    print(v.name, '=', v.varValue)\n",
    "    \n",
    "# objective value\n",
    "print('Objective = ', value(model.objective))"
   ]
  },
  {
   "cell_type": "markdown",
   "metadata": {},
   "source": [
    "**Print decision variables in a more readable format**"
   ]
  },
  {
   "cell_type": "code",
   "execution_count": 10,
   "metadata": {},
   "outputs": [
    {
     "name": "stdout",
     "output_type": "stream",
     "text": [
      "                  prod   quant\n",
      "0           USA to USA  1500.0\n",
      "1       USA to Germany     0.0\n",
      "2         USA to Japan     0.0\n",
      "3        USA to Brazil     0.0\n",
      "4         USA to India     0.0\n",
      "5       Germany to USA     0.0\n",
      "6   Germany to Germany     0.0\n",
      "7     Germany to Japan     0.0\n",
      "8    Germany to Brazil     0.0\n",
      "9     Germany to India     0.0\n",
      "10        Japan to USA     0.0\n",
      "11    Japan to Germany     0.0\n",
      "12      Japan to Japan  1500.0\n",
      "13     Japan to Brazil     0.0\n",
      "14      Japan to India     0.0\n",
      "15       Brazil to USA  1219.6\n",
      "16   Brazil to Germany     0.0\n",
      "17     Brazil to Japan     0.0\n",
      "18    Brazil to Brazil   145.4\n",
      "19     Brazil to India     0.0\n",
      "20        India to USA     0.0\n",
      "21    India to Germany    84.1\n",
      "22      India to Japan   176.8\n",
      "23     India to Brazil     0.0\n",
      "24      India to India   156.4\n"
     ]
    }
   ],
   "source": [
    "# production quantities\n",
    "o = [{'prod':\"{} to {}\".format(i,j), 'quant':x[(i,j)].varValue} for i in loc for j in loc]\n",
    "print(pd.DataFrame(o))"
   ]
  },
  {
   "cell_type": "code",
   "execution_count": 11,
   "metadata": {},
   "outputs": [
    {
     "name": "stdout",
     "output_type": "stream",
     "text": [
      "    hc   lc      loc\n",
      "0  1.0  0.0      USA\n",
      "1  0.0  0.0  Germany\n",
      "2  1.0  0.0    Japan\n",
      "3  1.0  0.0   Brazil\n",
      "4  0.0  1.0    India\n"
     ]
    }
   ],
   "source": [
    "# locations and capacity\n",
    "o = [{'loc':i, 'lc':y[(i,size[0])].varValue, 'hc':y[(i,size[1])].varValue} for i in loc]\n",
    "print(pd.DataFrame(o))"
   ]
  },
  {
   "cell_type": "markdown",
   "metadata": {},
   "source": [
    "**Sanity Checking**\n",
    "\n",
    "The solution is optimal. If it was not, then the model needs to be checked.\n",
    "\n",
    "1. If **infeasible**: review the constraints\n",
    "2. if **unbounded**: review the objective function\n",
    "3. if **undefined**: optimal solution may exist but may not have been found\n",
    "4. if **not solved**: then maybe you forgot to solve the model `model.solve()`\n",
    "\n",
    "**Write LP** is a good starting point.\n",
    "`writeLP(filename)` outputs a file containing: name of problem, objective function (and goal), constraints, and decision variables."
   ]
  },
  {
   "cell_type": "markdown",
   "metadata": {},
   "source": [
    "### Shadow price sensitivity analysis\n",
    "\n",
    "(aka change in objective per one unit increase in the RHS, or constraints)"
   ]
  },
  {
   "cell_type": "code",
   "execution_count": 12,
   "metadata": {},
   "outputs": [
    {
     "name": "stdout",
     "output_type": "stream",
     "text": [
      "   name  shadow_price\n",
      "0   _C1          12.0\n",
      "1   _C2          13.0\n",
      "2   _C3          10.0\n",
      "3   _C4           8.0\n",
      "4   _C5           8.0\n",
      "5   _C6          -6.0\n",
      "6   _C7          -7.0\n",
      "7   _C8          -7.0\n",
      "8   _C9           0.0\n",
      "9  _C10           0.0\n"
     ]
    }
   ],
   "source": [
    "# print shadow price for each constraint\n",
    "o = [{'name': name, 'shadow_price': c.pi} for name, c in model.constraints.items()]\n",
    "print(pd.DataFrame(o))"
   ]
  },
  {
   "cell_type": "markdown",
   "metadata": {},
   "source": [
    "### Constraint slack\n",
    "\n",
    "slack: amount of a resource that's unused. If **zero**, then constraint is **binding**. Changing binding constraints changes solution."
   ]
  },
  {
   "cell_type": "code",
   "execution_count": 13,
   "metadata": {},
   "outputs": [
    {
     "name": "stdout",
     "output_type": "stream",
     "text": [
      "   name  shadow_price  slack\n",
      "0   _C1          12.0   -0.0\n",
      "1   _C2          13.0   -0.0\n",
      "2   _C3          10.0   -0.0\n",
      "3   _C4           8.0   -0.0\n",
      "4   _C5           8.0   -0.0\n",
      "5   _C6          -6.0   -0.0\n",
      "6   _C7          -7.0   -0.0\n",
      "7   _C8          -7.0   -0.0\n",
      "8   _C9           0.0  135.0\n",
      "9  _C10           0.0   82.7\n"
     ]
    }
   ],
   "source": [
    "# print shadow price and slack for each constraint\n",
    "o = [{'name': name, 'shadow_price': c.pi, 'slack': c.slack} for name, c in model.constraints.items()]\n",
    "print(pd.DataFrame(o))"
   ]
  },
  {
   "cell_type": "markdown",
   "metadata": {},
   "source": [
    "Notice that constraints with **zero** shadow price, have **non-zero** slacks, i.e. unused resources."
   ]
  },
  {
   "cell_type": "markdown",
   "metadata": {},
   "source": [
    "## Remember!\n",
    "\n",
    "**Sensitivity Analysis** above (shadow price and slack) only valid when changing **one input at a time**. Use simulation (e.g. Monte Carlo) for a more comprehensive sensitivity analysis."
   ]
  },
  {
   "cell_type": "markdown",
   "metadata": {},
   "source": [
    "## Simulation Testing\n",
    "\n",
    "Now, we add some random noise to estimates of demands, and variable costs to test the sensitivity of the solution to a change in these estimates (just in case the data was inaccurate).\n",
    "\n",
    "This approach is also recommended for examining the readiness of a company/organization for various scenarios where the inputs may change. For example, examining the preparedness of a food or PPE equipment manufacturer supply chain for a sudden increase in demand due to a pandemic. "
   ]
  },
  {
   "cell_type": "markdown",
   "metadata": {},
   "source": [
    "**Modify objective function (variable costs)**\n",
    "\n",
    "```Python\n",
    "model += (lpSum([fix_cost.loc[i,s]*y[(i,s)] for s in size for i in loc]) \n",
    "         + lpSum([(var_cost.loc[i,j] + random.normalvariate(0.5, 0.5))*x[(i,j)] for i in loc for j in loc]))\n",
    "```"
   ]
  },
  {
   "cell_type": "markdown",
   "metadata": {},
   "source": [
    "**Modify demand constraints**\n",
    "\n",
    "```Python\n",
    "    for j in loc:\n",
    "        # define a noise variable to be added to demand estimates\n",
    "        rd = random.normalvariate(0, demand.loc[j,'Dmd']*.05)\n",
    "        model += lpSum([x[(i,j)] for i in loc]) == (demand.loc[j,'Dmd']+rd)\n",
    "```"
   ]
  },
  {
   "cell_type": "markdown",
   "metadata": {},
   "source": [
    "**Define a function to run the model**"
   ]
  },
  {
   "cell_type": "code",
   "execution_count": 14,
   "metadata": {},
   "outputs": [],
   "source": [
    "def run_pulp_model(fix_cost, var_cost, demand,cap):\n",
    "    # Initialize Class\n",
    "    model = LpProblem(\"Capacitated_Plant_Location_Model\", LpMinimize)\n",
    "    # Define Decision Variables\n",
    "    loc = ['USA', 'Germany', 'Japan', 'Brazil', 'India']\n",
    "    size = ['Low_Cap','High_Cap']\n",
    "    x = LpVariable.dicts(\"production_\", [(i,j) for i in loc for j in loc], \n",
    "                         lowBound=0, upBound=None, cat='Continuous')\n",
    "    y = LpVariable.dicts(\"plant_\", [(i,s) for s in size for i in loc], \n",
    "                         cat='Binary')\n",
    "    # objective function\n",
    "    model += (lpSum([fix_cost.loc[i,s]*y[(i,s)] for s in size for i in loc]) \n",
    "              + lpSum([(var_cost.loc[i,j] + random.normalvariate(0.5, 0.5))*x[(i,j)] for i in loc for j in loc]))\n",
    "    # Define the Constraints\n",
    "    for j in loc:\n",
    "        # define a noise variable to be added to demand estimates\n",
    "        rd = random.normalvariate(0, demand.loc[j,'Dmd']*.05)\n",
    "        model += lpSum([x[(i,j)] for i in loc]) == (demand.loc[j,'Dmd']+rd)\n",
    "    for i in loc:\n",
    "        model += lpSum([x[(i, j)] for j in loc]) <= lpSum([cap.loc[i,s] * y[i,s] for s in size])\n",
    "    # Solve the model\n",
    "    model.solve()\n",
    "    # output dictionary\n",
    "    o = {}\n",
    "    # adding to output dictionary\n",
    "    for i in loc:\n",
    "        o[i] = value(lpSum([x[(i, j)] for j in loc]))\n",
    "        o['Obj'] = value(model.objective)\n",
    "    return(o)"
   ]
  },
  {
   "cell_type": "code",
   "execution_count": 15,
   "metadata": {},
   "outputs": [
    {
     "data": {
      "text/html": [
       "<div>\n",
       "<style scoped>\n",
       "    .dataframe tbody tr th:only-of-type {\n",
       "        vertical-align: middle;\n",
       "    }\n",
       "\n",
       "    .dataframe tbody tr th {\n",
       "        vertical-align: top;\n",
       "    }\n",
       "\n",
       "    .dataframe thead th {\n",
       "        text-align: right;\n",
       "    }\n",
       "</style>\n",
       "<table border=\"1\" class=\"dataframe\">\n",
       "  <thead>\n",
       "    <tr style=\"text-align: right;\">\n",
       "      <th></th>\n",
       "      <th>Brazil</th>\n",
       "      <th>Germany</th>\n",
       "      <th>India</th>\n",
       "      <th>Japan</th>\n",
       "      <th>Obj</th>\n",
       "      <th>USA</th>\n",
       "    </tr>\n",
       "  </thead>\n",
       "  <tbody>\n",
       "    <tr>\n",
       "      <th>0</th>\n",
       "      <td>1195.772610</td>\n",
       "      <td>0.0</td>\n",
       "      <td>355.639501</td>\n",
       "      <td>1500.0</td>\n",
       "      <td>61637.299150</td>\n",
       "      <td>1500.0</td>\n",
       "    </tr>\n",
       "    <tr>\n",
       "      <th>1</th>\n",
       "      <td>1438.493680</td>\n",
       "      <td>0.0</td>\n",
       "      <td>581.361504</td>\n",
       "      <td>1500.0</td>\n",
       "      <td>64061.789957</td>\n",
       "      <td>1500.0</td>\n",
       "    </tr>\n",
       "    <tr>\n",
       "      <th>2</th>\n",
       "      <td>1383.288970</td>\n",
       "      <td>0.0</td>\n",
       "      <td>401.618948</td>\n",
       "      <td>1500.0</td>\n",
       "      <td>62081.154106</td>\n",
       "      <td>1500.0</td>\n",
       "    </tr>\n",
       "    <tr>\n",
       "      <th>3</th>\n",
       "      <td>1499.999991</td>\n",
       "      <td>0.0</td>\n",
       "      <td>453.327104</td>\n",
       "      <td>1500.0</td>\n",
       "      <td>63327.302418</td>\n",
       "      <td>1500.0</td>\n",
       "    </tr>\n",
       "    <tr>\n",
       "      <th>4</th>\n",
       "      <td>1438.768000</td>\n",
       "      <td>0.0</td>\n",
       "      <td>360.931255</td>\n",
       "      <td>1500.0</td>\n",
       "      <td>64310.227956</td>\n",
       "      <td>1500.0</td>\n",
       "    </tr>\n",
       "  </tbody>\n",
       "</table>\n",
       "</div>"
      ],
      "text/plain": [
       "        Brazil  Germany       India   Japan           Obj     USA\n",
       "0  1195.772610      0.0  355.639501  1500.0  61637.299150  1500.0\n",
       "1  1438.493680      0.0  581.361504  1500.0  64061.789957  1500.0\n",
       "2  1383.288970      0.0  401.618948  1500.0  62081.154106  1500.0\n",
       "3  1499.999991      0.0  453.327104  1500.0  63327.302418  1500.0\n",
       "4  1438.768000      0.0  360.931255  1500.0  64310.227956  1500.0"
      ]
     },
     "execution_count": 15,
     "metadata": {},
     "output_type": "execute_result"
    }
   ],
   "source": [
    "# variable for number of replications\n",
    "r = 1000\n",
    "# define a list of dictionaries to hold the output of each replication\n",
    "output = []\n",
    "for i in range(r):\n",
    "    output.append(run_pulp_model(fix_cost, var_cost, demand, cap))\n",
    "df = pd.DataFrame(output)\n",
    "df.head()"
   ]
  },
  {
   "cell_type": "markdown",
   "metadata": {},
   "source": [
    "### Interpreting simulation results\n",
    "\n",
    "**Production at each region**\n",
    "\n",
    "Keep in mind that the production capacity for a low or high capacity plant is 500, or 1,500 respectively."
   ]
  },
  {
   "cell_type": "code",
   "execution_count": 16,
   "metadata": {},
   "outputs": [
    {
     "data": {
      "image/png": "[encoded data removed]",
      "text/plain": [
       "<Figure size 432x288 with 1 Axes>"
      ]
     },
     "metadata": {
      "needs_background": "light"
     },
     "output_type": "display_data"
    }
   ],
   "source": [
    "# Histogram of Brazilian production\n",
    "plt.title('Histogram of Prod. At Brazil Region')\n",
    "plt.hist(df['Brazil'], bins=30)\n",
    "plt.show()"
   ]
  },
  {
   "cell_type": "markdown",
   "metadata": {},
   "source": [
    "Although it's rare, but notice how it seems like the Brazil region sometimes uses both a high and low capacity plant for production, because there are instances where production is greater than 1,500 (horizontal axis)."
   ]
  },
  {
   "cell_type": "code",
   "execution_count": 17,
   "metadata": {},
   "outputs": [
    {
     "data": {
      "image/png": "[encoded data removed]",
      "text/plain": [
       "<Figure size 432x288 with 1 Axes>"
      ]
     },
     "metadata": {
      "needs_background": "light"
     },
     "output_type": "display_data"
    }
   ],
   "source": [
    "# Histogram of USA production\n",
    "plt.title('Histogram of Prod. At USA Region')\n",
    "plt.hist(df['USA'], bins=30)\n",
    "plt.show()"
   ]
  },
  {
   "cell_type": "code",
   "execution_count": 18,
   "metadata": {},
   "outputs": [
    {
     "data": {
      "image/png": "[encoded data removed]",
      "text/plain": [
       "<Figure size 432x288 with 1 Axes>"
      ]
     },
     "metadata": {
      "needs_background": "light"
     },
     "output_type": "display_data"
    }
   ],
   "source": [
    "# Histogram of Japan production\n",
    "plt.title('Histogram of Prod. At Japan Region')\n",
    "plt.hist(df['Japan'], bins=30)\n",
    "plt.show()"
   ]
  },
  {
   "cell_type": "code",
   "execution_count": 19,
   "metadata": {},
   "outputs": [
    {
     "data": {
      "image/png": "[encoded data removed]",
      "text/plain": [
       "<Figure size 432x288 with 1 Axes>"
      ]
     },
     "metadata": {
      "needs_background": "light"
     },
     "output_type": "display_data"
    }
   ],
   "source": [
    "# Histogram of Germany production\n",
    "plt.title('Histogram of Prod. At Germany Region')\n",
    "plt.hist(df['Germany'], bins=30)\n",
    "plt.show()"
   ]
  },
  {
   "cell_type": "markdown",
   "metadata": {},
   "source": [
    " Notice how USA, Japan, and Germany all have stable production quantities, where most of the times the result is the same. Also, notice how it seems that in the simulation, there were no instances when the German region produced any products."
   ]
  },
  {
   "cell_type": "code",
   "execution_count": null,
   "metadata": {},
   "outputs": [],
   "source": []
  }
 ],
 "metadata": {
  "kernelspec": {
   "display_name": "Python 3",
   "language": "python",
   "name": "python3"
  },
  "language_info": {
   "codemirror_mode": {
    "name": "ipython",
    "version": 3
   },
   "file_extension": ".py",
   "mimetype": "text/x-python",
   "name": "python",
   "nbconvert_exporter": "python",
   "pygments_lexer": "ipython3",
   "version": "3.7.1"
  }
 },
 "nbformat": 4,
 "nbformat_minor": 2
}
