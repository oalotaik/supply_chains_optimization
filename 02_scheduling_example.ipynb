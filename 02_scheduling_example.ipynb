{
 "cells": [
  {
   "cell_type": "markdown",
   "metadata": {},
   "source": [
    "**Truck Drivers Scheduling Example**\n",
    "\n",
    "Demand and constraint:\n",
    "<img src=\"files/images/02_scheduling_prob.PNG\" width=\"500\" align=\"center\">\n",
    "\n",
    "Be careful how to define your decision variables. Defining Xi as the number of drivers working on day i is not correct since it will lead to counting the same driver multiple days, and it's hard to model the constraint with this decision variable setup.\n",
    "\n",
    "Xi should be defined as the number of drivers who **start** working on day i.\n",
    "<img src=\"files/images/02_scheduling_prob2.PNG\" width=\"500\" align=\"center\">\n"
   ]
  },
  {
   "cell_type": "code",
   "execution_count": 1,
   "metadata": {},
   "outputs": [],
   "source": [
    "from pulp import *\n",
    "import pandas as pd"
   ]
  },
  {
   "cell_type": "markdown",
   "metadata": {},
   "source": [
    "**Scheduling workers problem**\n",
    "\n",
    "You are looking to hire workers to work in a warehouse. Each worker is expected to work 5 consecutive days and then have two days off. The chart below has the estimated number of workers you will need each day. You are looking to hire the minimum number of workers to handle the workload for each day.\n",
    "\n",
    "Expected Workload\n",
    "\n",
    "|Day of Week|Employees Needed|\n",
    "|-----------|----------------|\n",
    "|0 = Monday|\t31|\n",
    "|1 = Tuesday|\t45|\n",
    "|2 = Wednesday|\t40|\n",
    "|3 = Thursday|\t40|\n",
    "|4 = Friday\t|48|\n",
    "|5 = Saturday|\t30|\n",
    "|6 = Sunday\t|25|\n",
    "\n",
    "Solution:"
   ]
  },
  {
   "cell_type": "code",
   "execution_count": 6,
   "metadata": {},
   "outputs": [
    {
     "data": {
      "text/plain": [
       "1"
      ]
     },
     "execution_count": 6,
     "metadata": {},
     "output_type": "execute_result"
    }
   ],
   "source": [
    "model2 = LpProblem(\"Minimize_Staffing\", LpMinimize)\n",
    "days = list(range(7))\n",
    "x = LpVariable.dicts('staff_', days, lowBound=0, cat='Integer')\n",
    "model2 += lpSum([x[i] for i in days])\n",
    "\n",
    "# Define Constraints\n",
    "model2 += x[0] + x[3] + x[4] + x[5] + x[6] >= 31\n",
    "model2 += x[0] + x[1] + x[4] + x[5] + x[6] >= 45\n",
    "model2 += x[0] + x[1] + x[2] + x[5] + x[6] >= 40\n",
    "model2 += x[0] + x[1] + x[2] + x[3] + x[6] >= 40\n",
    "model2 += x[0] + x[1] + x[2] + x[3] + x[4] >= 48\n",
    "model2 += x[1] + x[2] + x[3] + x[4] + x[5] >= 30\n",
    "model2 += x[2] + x[3] + x[4] + x[5] + x[6] >= 25\n",
    "\n",
    "model2.solve()"
   ]
  },
  {
   "cell_type": "code",
   "execution_count": 7,
   "metadata": {},
   "outputs": [
    {
     "name": "stdout",
     "output_type": "stream",
     "text": [
      "staff__0 = 14.0\n",
      "staff__1 = 14.0\n",
      "staff__2 = 8.0\n",
      "staff__3 = 0.0\n",
      "staff__4 = 13.0\n",
      "staff__5 = 0.0\n",
      "staff__6 = 4.0\n"
     ]
    }
   ],
   "source": [
    "# variable values\n",
    "for v in model2.variables():\n",
    "    print(v.name, '=', v.varValue)"
   ]
  },
  {
   "cell_type": "code",
   "execution_count": 8,
   "metadata": {},
   "outputs": [
    {
     "data": {
      "text/plain": [
       "53.0"
      ]
     },
     "execution_count": 8,
     "metadata": {},
     "output_type": "execute_result"
    }
   ],
   "source": [
    "# objective value\n",
    "model2.objective.value()"
   ]
  },
  {
   "cell_type": "code",
   "execution_count": null,
   "metadata": {},
   "outputs": [],
   "source": []
  }
 ],
 "metadata": {
  "kernelspec": {
   "display_name": "Python 3",
   "language": "python",
   "name": "python3"
  },
  "language_info": {
   "codemirror_mode": {
    "name": "ipython",
    "version": 3
   },
   "file_extension": ".py",
   "mimetype": "text/x-python",
   "name": "python",
   "nbconvert_exporter": "python",
   "pygments_lexer": "ipython3",
   "version": "3.7.1"
  }
 },
 "nbformat": 4,
 "nbformat_minor": 2
}
